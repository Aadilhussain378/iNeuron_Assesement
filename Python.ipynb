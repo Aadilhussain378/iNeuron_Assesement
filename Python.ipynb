{
 "cells": [
  {
   "cell_type": "markdown",
   "id": "e50bc284",
   "metadata": {},
   "source": [
    "# Python"
   ]
  },
  {
   "cell_type": "raw",
   "id": "ba5c0388",
   "metadata": {},
   "source": [
    "# Question 1:\n",
    "\n",
    "You have an input dictionary given,\n",
    "\n",
    "input_dict = {\"abc\":{\"def\":{\"ghi\":{\"jkl\":{\"mno\":{\"pqr\":{\"stu\":{\"vwx\":{\"yz\":\"you are finally here !!!\"}}}}}}}}}\n",
    "\n",
    "Task:  You have to write a Python function that will take this input and print it like that,\n",
    "\n",
    "output = {\"abc\":[\"def\",\"ghi\",\"jkl\",\"mno\",\"pqr\",\"stu\",\"vwx\",\"yz\"],\n",
    " \"def\":[\"ghi\",\"jkl\",\"mno\",\"pqr\",\"stu\",\"vwx\",\"yz\"],\n",
    " \"ghi\":[\"jkl\",\"mno\",\"pqr\",\"stu\",\"vwx\",\"yz\"],\n",
    " \"jkl\":[\"mno\",\"pqr\",\"stu\",\"vwx\",\"yz\"],\n",
    " \"mno\":[\"pqr\",\"stu\",\"vwx\",\"yz\"],\n",
    " \"pqr\":[\"stu\",\"vwx\",\"yz\"],\n",
    " \"stu\":[\"vwx\",\"yz\"],\n",
    " \"vwx\":[\"yz\"],\n",
    " \"yz\":[\"you are finally here !!!\"]}"
   ]
  },
  {
   "cell_type": "code",
   "execution_count": 38,
   "id": "42f81c5e",
   "metadata": {},
   "outputs": [
    {
     "name": "stdout",
     "output_type": "stream",
     "text": [
      "{'yz': 'you are finally here !!!'}\n"
     ]
    }
   ],
   "source": [
    "def print_nested_dict(input_dict):\n",
    "    output = {}\n",
    "\n",
    "    def traverse_dict(input_dict, keys):\n",
    "        for key, value in input_dict.items():\n",
    "            new_keys = keys + [key]\n",
    "            if isinstance(value, dict):\n",
    "                traverse_dict(value, new_keys)\n",
    "            else:\n",
    "                output[key] = new_keys\n",
    "\n",
    "    traverse_dict(input_dict, [])\n",
    "    \n",
    "    # Modify the output to handle the \"yz\" key\n",
    "    yz_value = input_dict['abc']['def']['ghi']['jkl']['mno']['pqr']['stu']['vwx']['yz']\n",
    "    output['yz'] = yz_value\n",
    "\n",
    "    return output\n",
    "\n",
    "# Input dictionary\n",
    "input_dict = {\"abc\":{\"def\":{\"ghi\":{\"jkl\":{\"mno\":{\"pqr\":{\"stu\":{\"vwx\":{\"yz\":\"you are finally here !!!\"}}}}}}}}}\n",
    "\n",
    "# Generate the output dictionary\n",
    "output_dict = print_nested_dict(input_dict)\n",
    "\n",
    "# Print the output dictionary\n",
    "print(output_dict)"
   ]
  },
  {
   "cell_type": "raw",
   "id": "d55ab65f",
   "metadata": {},
   "source": [
    "# question2\n",
    "\n",
    "Given an array of length ‘N’, where each element denotes the position of a stall. Now you have ‘N’ stalls and an integer ‘K’ which denotes the number of horses that are mad. To prevent the horses from hurting each other, you need to assign the horses to the stalls, such that the minimum distance between any two of them is as large as possible. Return the largest minimum distance.\n",
    "\n",
    "array: 1,2,4,8,9  &  k=3\n",
    "\n",
    "O/P: 3\n",
    "\n",
    "Explanation: 1st horse at stall 1, 2nd horse at stall 4 and 3rd horse at stall 8\n"
   ]
  },
  {
   "cell_type": "code",
   "execution_count": 28,
   "id": "38506653",
   "metadata": {},
   "outputs": [],
   "source": [
    "def max_min_distance(stalls, k):\n",
    "    stalls.sort()\n",
    "    low, high = 0, stalls[-1] - stalls[0]\n",
    "    result_distance = -1\n",
    "\n",
    "    while low <= high:\n",
    "        mid = (low + high) // 2\n",
    "\n",
    "        if sum((stalls[i + 1] - stalls[i]) // mid for i in range(len(stalls) - 1)) >= k - 1:\n",
    "            result_distance = mid\n",
    "            low = mid + 1\n",
    "        else:\n",
    "            high = mid - 1\n",
    "\n",
    "    # Printing the stall assignments\n",
    "    horses_assigned = 1\n",
    "    last_stall = stalls[0]\n",
    "\n",
    "    for stall in stalls:\n",
    "        if stall - last_stall >= result_distance:\n",
    "            print(f\"{horses_assigned}st horse at stall {last_stall}\", end=\", \")\n",
    "            horses_assigned += 1\n",
    "            last_stall = stall\n",
    "\n",
    "    # Print the last horse's assignment\n",
    "    print(f\"{horses_assigned}th horse at stall {last_stall}\")\n",
    "\n",
    "    return horses_assigned"
   ]
  },
  {
   "cell_type": "code",
   "execution_count": 29,
   "id": "7c94079e",
   "metadata": {},
   "outputs": [
    {
     "name": "stdout",
     "output_type": "stream",
     "text": [
      "1st horse at stall 1, 2st horse at stall 4, 3th horse at stall 8\n",
      "Largest minimum distance: 3\n"
     ]
    }
   ],
   "source": [
    "# Example usage:\n",
    "stalls = [1, 2, 4, 8, 9]\n",
    "k = 3\n",
    "output = max_min_distance(stalls, k)\n",
    "print(f\"Largest minimum distance: {output}\")"
   ]
  },
  {
   "cell_type": "code",
   "execution_count": null,
   "id": "1832f6b6",
   "metadata": {},
   "outputs": [],
   "source": []
  },
  {
   "cell_type": "raw",
   "id": "e0efd928",
   "metadata": {},
   "source": [
    "Question3:\n",
    "\n",
    "Mr. Karthiken works in a door mat manufacturing company. One day, he designed a new door mat with the following specifications:\n",
    "\n",
    "             a) Mat size must be N X M. (N is an odd natural number, and M is 3 times N.)\n",
    "              b) The design should have ‘WELCOME’ written in the center.\n",
    "              c) The design pattern should only use |, . and – characters.\n",
    "\n",
    "    Sample Design is given above image, Write a python code for this."
   ]
  },
  {
   "cell_type": "code",
   "execution_count": 36,
   "id": "87b26fea",
   "metadata": {},
   "outputs": [
    {
     "name": "stdout",
     "output_type": "stream",
     "text": [
      "---------------.|.---------------\n",
      "------------.|..|..|.------------\n",
      "---------.|..|..|..|..|.---------\n",
      "------.|..|..|..|..|..|..|.------\n",
      "---.|..|..|..|..|..|..|..|..|.---\n",
      "-------------WELCOME-------------\n",
      "---.|..|..|..|..|..|..|..|..|.---\n",
      "------.|..|..|..|..|..|..|.------\n",
      "---------.|..|..|..|..|.---------\n",
      "------------.|..|..|.------------\n",
      "---------------.|.---------------\n"
     ]
    }
   ],
   "source": [
    "def print_door_mat(N, M):\n",
    "    pattern = \".|.\"\n",
    "    welcome_message = \"WELCOME\"\n",
    "\n",
    "    # Print the top part of the door mat\n",
    "    for i in range(1, N, 2):\n",
    "        row = (pattern * i).center(M, '-')\n",
    "        print(row)\n",
    "\n",
    "    # Print the welcome message\n",
    "    print(welcome_message.center(M, '-'))\n",
    "\n",
    "    # Print the bottom part of the door mat\n",
    "    for i in range(N-2, 0, -2):\n",
    "        row = (pattern * i).center(M, '-')\n",
    "        print(row)\n",
    "\n",
    "# Example usage:\n",
    "N = 11\n",
    "M = 33  # Since M = 3 * N\n",
    "print_door_mat(N, M)"
   ]
  },
  {
   "cell_type": "code",
   "execution_count": null,
   "id": "97a85692",
   "metadata": {},
   "outputs": [],
   "source": []
  },
  {
   "cell_type": "code",
   "execution_count": null,
   "id": "4252e1c8",
   "metadata": {},
   "outputs": [],
   "source": []
  },
  {
   "cell_type": "raw",
   "id": "2f592c0e",
   "metadata": {},
   "source": [
    "# Question 4\n",
    "\n",
    "Given an array nums of n integers, return an array of all the unique quadruplets [nums[a], nums[b], nums[c], nums[d]] such that:\n",
    "\n",
    "   a) 0 <= a, b, c, d < n\n",
    "   b) a, b, c, and d are distinct.\n",
    "   c) nums[a] + nums[b] + nums[c] + nums[d] == target"
   ]
  },
  {
   "cell_type": "code",
   "execution_count": 32,
   "id": "60e5a757",
   "metadata": {},
   "outputs": [],
   "source": [
    "def four_sum(nums, target):\n",
    "    nums.sort()\n",
    "    result = []\n",
    "\n",
    "    for a in range(len(nums) - 3):\n",
    "        # Skip duplicate values for a\n",
    "        if a > 0 and nums[a] == nums[a - 1]:\n",
    "            continue\n",
    "\n",
    "        for b in range(a + 1, len(nums) - 2):\n",
    "            # Skip duplicate values for b\n",
    "            if b > a + 1 and nums[b] == nums[b - 1]:\n",
    "                continue\n",
    "\n",
    "            left, right = b + 1, len(nums) - 1\n",
    "\n",
    "            while left < right:\n",
    "                current_sum = nums[a] + nums[b] + nums[left] + nums[right]\n",
    "\n",
    "                if current_sum == target:\n",
    "                    result.append([nums[a], nums[b], nums[left], nums[right]])\n",
    "\n",
    "                    # Skip duplicate values for left and right\n",
    "                    while left < right and nums[left] == nums[left + 1]:\n",
    "                        left += 1\n",
    "                    while left < right and nums[right] == nums[right - 1]:\n",
    "                        right -= 1\n",
    "\n",
    "                    left += 1\n",
    "                    right -= 1\n",
    "                elif current_sum < target:\n",
    "                    left += 1\n",
    "                else:\n",
    "                    right -= 1\n",
    "\n",
    "    return result\n"
   ]
  },
  {
   "cell_type": "code",
   "execution_count": 33,
   "id": "7c5a636c",
   "metadata": {},
   "outputs": [
    {
     "name": "stdout",
     "output_type": "stream",
     "text": [
      "[[-2, -1, 1, 2], [-2, 0, 0, 2], [-1, 0, 0, 1]]\n"
     ]
    }
   ],
   "source": [
    "# Example usage:\n",
    "nums = [1, 0, -1, 0, -2, 2]\n",
    "target = 0\n",
    "output = four_sum(nums, target)\n",
    "print(output)"
   ]
  },
  {
   "cell_type": "code",
   "execution_count": null,
   "id": "9daf2dc1",
   "metadata": {},
   "outputs": [],
   "source": []
  },
  {
   "cell_type": "code",
   "execution_count": null,
   "id": "1e0aa918",
   "metadata": {},
   "outputs": [],
   "source": []
  },
  {
   "cell_type": "code",
   "execution_count": null,
   "id": "fb6e5793",
   "metadata": {},
   "outputs": [],
   "source": []
  },
  {
   "cell_type": "code",
   "execution_count": null,
   "id": "7b79bf03",
   "metadata": {},
   "outputs": [],
   "source": []
  }
 ],
 "metadata": {
  "kernelspec": {
   "display_name": "Python 3 (ipykernel)",
   "language": "python",
   "name": "python3"
  },
  "language_info": {
   "codemirror_mode": {
    "name": "ipython",
    "version": 3
   },
   "file_extension": ".py",
   "mimetype": "text/x-python",
   "name": "python",
   "nbconvert_exporter": "python",
   "pygments_lexer": "ipython3",
   "version": "3.9.12"
  }
 },
 "nbformat": 4,
 "nbformat_minor": 5
}
