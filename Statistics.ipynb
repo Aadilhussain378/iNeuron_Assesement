{
 "cells": [
  {
   "cell_type": "markdown",
   "id": "f1fef384",
   "metadata": {},
   "source": [
    "# Question 1"
   ]
  },
  {
   "cell_type": "markdown",
   "id": "a620686f",
   "metadata": {},
   "source": [
    "\n",
    "# What is the meaning of six sigma in statistics?  Give proper example\n"
   ]
  },
  {
   "cell_type": "markdown",
   "id": "b0e9b8ec",
   "metadata": {},
   "source": [
    "Answer:\n",
    "\n",
    "Six Sigma is a set of techniques and tools used for process improvement. In statistics, it refers to a process that produces fewer than 3.4 defects per million opportunities. Imagine you have a toy factory, and you want to ensure that only 3.4 out of a million toys have defects. This helps in minimizing variations and improving overall quality."
   ]
  },
  {
   "cell_type": "markdown",
   "id": "76d83c0b",
   "metadata": {},
   "source": [
    "# Question: 2\n",
    "\n",
    "What type of data does not have a log-normal distribution or a Gaussian distribution?  Give proper example"
   ]
  },
  {
   "cell_type": "markdown",
   "id": "496190f3",
   "metadata": {},
   "source": [
    "Categorical data (nominal data) does not have a log-normal or Gaussian distribution. Nominal data consists of categories with no inherent order, like colors or types of fruits. For example, if you have data on colors of cars (red, blue, green), it does not follow a log-normal or Gaussian distribution"
   ]
  },
  {
   "cell_type": "markdown",
   "id": "626d6661",
   "metadata": {},
   "source": [
    "# Question: 3\n",
    "\n",
    "What is the meaning of the five-number summary in Statistics? Give proper example\n"
   ]
  },
  {
   "cell_type": "markdown",
   "id": "33078ba3",
   "metadata": {},
   "source": [
    "Answer:\n",
    "  \n",
    "The five-number summary in statistics includes the minimum, first quartile (Q1), median (Q2), third quartile (Q3), and maximum of a dataset. Let's take the dataset [10, 15, 20, 25, 30] as an example:\n",
    "\n",
    "Minimum: 10\n",
    "Q1: 15\n",
    "Median: 20\n",
    "Q3: 25\n",
    "Maximum: 30\n",
    "    "
   ]
  },
  {
   "cell_type": "markdown",
   "id": "78bdef3a",
   "metadata": {},
   "source": [
    "# Question: 4\n",
    "\n",
    "What is correlation? Give an example with a dataset & graphical representation on jupyter Notebook"
   ]
  },
  {
   "cell_type": "markdown",
   "id": "1d3e43c7",
   "metadata": {},
   "source": [
    "Correlation measures the strength and direction of a linear relationship between two variables. For example, let's consider a dataset with hours of study and exam scores:"
   ]
  },
  {
   "cell_type": "code",
   "execution_count": 2,
   "id": "cc3295fe",
   "metadata": {},
   "outputs": [],
   "source": [
    "import pandas as pd\n",
    "import seaborn as sns\n",
    "import matplotlib.pyplot as plt\n"
   ]
  },
  {
   "cell_type": "code",
   "execution_count": 3,
   "id": "bbe8ce8c",
   "metadata": {},
   "outputs": [],
   "source": [
    "# Example dataset\n",
    "data = {'Hours of Study': [1, 2, 3, 4, 5],\n",
    "        'Exam Scores': [50, 60, 70, 80, 90]}\n",
    "df = pd.DataFrame(data)\n",
    "\n"
   ]
  },
  {
   "cell_type": "code",
   "execution_count": 4,
   "id": "e51e0050",
   "metadata": {},
   "outputs": [
    {
     "data": {
      "image/png": "[encoded data removed]",
      "text/plain": [
       "<Figure size 432x288 with 1 Axes>"
      ]
     },
     "metadata": {
      "needs_background": "light"
     },
     "output_type": "display_data"
    }
   ],
   "source": [
    "# Calculate correlation\n",
    "correlation = df['Hours of Study'].corr(df['Exam Scores'])\n",
    "\n",
    "# Plot the dataset\n",
    "sns.scatterplot(x='Hours of Study', y='Exam Scores', data=df)\n",
    "plt.title(f'Correlation: {correlation:.2f}')\n",
    "plt.show()"
   ]
  },
  {
   "cell_type": "markdown",
   "id": "b6ca6dc5",
   "metadata": {},
   "source": [
    "Observation:  In this example, the positive correlation indicates that as the hours of study increase, exam scores also tend to increase."
   ]
  },
  {
   "cell_type": "code",
   "execution_count": null,
   "id": "3ea5c17f",
   "metadata": {},
   "outputs": [],
   "source": []
  }
 ],
 "metadata": {
  "kernelspec": {
   "display_name": "Python 3 (ipykernel)",
   "language": "python",
   "name": "python3"
  },
  "language_info": {
   "codemirror_mode": {
    "name": "ipython",
    "version": 3
   },
   "file_extension": ".py",
   "mimetype": "text/x-python",
   "name": "python",
   "nbconvert_exporter": "python",
   "pygments_lexer": "ipython3",
   "version": "3.9.12"
  }
 },
 "nbformat": 4,
 "nbformat_minor": 5
}
